{
 "cells": [
  {
   "cell_type": "markdown",
   "id": "f62ace7e",
   "metadata": {},
   "source": [
    "# Gaussian Mixtures Model"
   ]
  },
  {
   "cell_type": "code",
   "execution_count": null,
   "id": "b2db677d",
   "metadata": {},
   "outputs": [],
   "source": []
  }
 ],
 "metadata": {
  "kernelspec": {
   "display_name": "Python 3",
   "language": "python",
   "name": "python3"
  },
  "language_info": {
   "codemirror_mode": {
    "name": "ipython",
    "version": 3
   },
   "file_extension": ".py",
   "mimetype": "text/x-python",
   "name": "python",
   "nbconvert_exporter": "python",
   "pygments_lexer": "ipython3",
   "version": "3.8.10"
  }
 },
 "nbformat": 4,
 "nbformat_minor": 5
}
